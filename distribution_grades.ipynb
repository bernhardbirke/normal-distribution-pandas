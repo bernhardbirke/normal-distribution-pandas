{
 "cells": [
  {
   "cell_type": "markdown",
   "metadata": {},
   "source": [
    "## Calculate Grades"
   ]
  },
  {
   "cell_type": "code",
   "execution_count": 69,
   "metadata": {},
   "outputs": [],
   "source": [
    "#import required libraries\n",
    "from scipy.stats import norm, binom\n",
    "import numpy as np\n",
    "import matplotlib.pyplot as plt"
   ]
  },
  {
   "cell_type": "code",
   "execution_count": 70,
   "metadata": {},
   "outputs": [],
   "source": [
    "#helper functions\n",
    "def ordinal(num: int) -> str:\n",
    "    \"\"\"returns a ordinal string of int \"\"\"\n",
    "    SUFFIXES = {1: 'st', 2: 'nd', 3: 'rd'}\n",
    "    # I'm checking for 10-20 because those are the digits that\n",
    "    # don't follow the normal counting scheme. \n",
    "    if 10 <= num % 100 <= 20:\n",
    "        suffix = 'th'\n",
    "    else:\n",
    "        # the second parameter is a default.\n",
    "        suffix = SUFFIXES.get(num % 10, 'th')\n",
    "    return str(num) + suffix"
   ]
  },
  {
   "cell_type": "code",
   "execution_count": 123,
   "metadata": {},
   "outputs": [],
   "source": [
    "#input information\n",
    "mean : float = 5.5\n",
    "sd: float = 0.68\n",
    "total_students: str = 5 #including you\n",
    "personal_score: float = 6.1\n",
    "unit: str = \"American Grade\"\n",
    "subject: str = \"math\""
   ]
  },
  {
   "cell_type": "code",
   "execution_count": 124,
   "metadata": {},
   "outputs": [
    {
     "name": "stdout",
     "output_type": "stream",
     "text": [
      "Percentage of students who got LESS than 6.1 American Grade in math: 81.12 %\n",
      "Percentage of students who got HIGHER than 6.1 American Grade in math: 18.88 %\n",
      "\n",
      "Amongst 5 students: 4 got a LOWER American Grade in math than your 6.1.\n",
      "Amongst 5 students: 0 got a HIGHER American Grade in math than your 6.1.\n"
     ]
    }
   ],
   "source": [
    "# Calculate z-score for score\n",
    "z_score = (personal_score - mean) / sd\n",
    "\n",
    "# Calculate the probability of getting a score less than personal_score\n",
    "prob_lower = norm.cdf(z_score)\n",
    "# Calculate the probability of getting a score higher than personal_score\n",
    "prob_higher = 1 - norm.cdf(z_score)\n",
    "\n",
    "# Print the result\n",
    "print(f\"Percentage of students who got LESS than {personal_score} {unit} in {subject}:\", round(prob_lower*100, 2), \"%\")\n",
    "print(f\"Percentage of students who got HIGHER than {personal_score} {unit} in {subject}:\", round(prob_higher*100, 2), \"%\")\n",
    "print(\"\")\n",
    "print(f\"Amongst {total_students} students: {int(round((prob_lower*total_students), 0))} got a LOWER {unit} in {subject} than your {personal_score}.\")\n",
    "print(f\"Amongst {total_students} students: {int(total_students-1-round((prob_lower*total_students), 0))} got a HIGHER {unit} in {subject} than your {personal_score}.\")\n"
   ]
  },
  {
   "cell_type": "code",
   "execution_count": 125,
   "metadata": {},
   "outputs": [
    {
     "name": "stdout",
     "output_type": "stream",
     "text": [
      "r\tp(r)\n",
      "Amongst 5 students: chances you got the 1st highest American Grade in math:  43.3 %\n",
      "Amongst 5 students: chances you got the 2nd highest American Grade in math:  40.31 %\n",
      "Amongst 5 students: chances you got the 3rd highest American Grade in math:  14.07 %\n",
      "Amongst 5 students: chances you got the 4th highest American Grade in math:  2.18 %\n",
      "Amongst 5 students: chances you got the 5th highest American Grade in math:  0.13 %\n"
     ]
    }
   ],
   "source": [
    "#probability to be the best in class\n",
    "# number of sucesses (lower score) r in n independent trials\n",
    "n = total_students -1\n",
    "p = prob_higher\n",
    "# defining the list of r values\n",
    "r_values = list(range(n + 1))\n",
    "# list of pmf values\n",
    "dist = [binom.pmf(r, n, p) for r in r_values ]\n",
    "# printing the table\n",
    "print(\"r\\tp(r)\")\n",
    "for i in range(n + 1):\n",
    "    print(f\"Amongst {total_students} students: chances you got the {ordinal(i+1)} highest {unit} in {subject}: \", round(dist[i]*100,2), \"%\")\n",
    " #   print(str(r_values[i]) + \"\\t\" + str(dist[i]))\n"
   ]
  },
  {
   "cell_type": "code",
   "execution_count": 129,
   "metadata": {},
   "outputs": [
    {
     "data": {
      "image/png": "[encoded data removed]",
      "text/plain": [
       "<Figure size 640x480 with 1 Axes>"
      ]
     },
     "metadata": {},
     "output_type": "display_data"
    }
   ],
   "source": [
    "#bar graph showing the possibility for each rank.\n",
    "ranking = [r+1 for r in r_values]\n",
    "barlist = plt.bar(ranking, dist, width=0.8)\n",
    "barlist[0].set_color('g')\n",
    "barlist[-1].set_color('r')\n",
    "plt.xlabel(f'Rank among all {total_students} students \\n with score: {personal_score} {unit} in {subject}')\n",
    "plt.ylabel('Probability Density')\n",
    "plt.show()"
   ]
  }
 ],
 "metadata": {
  "kernelspec": {
   "display_name": ".venv",
   "language": "python",
   "name": "python3"
  },
  "language_info": {
   "codemirror_mode": {
    "name": "ipython",
    "version": 3
   },
   "file_extension": ".py",
   "mimetype": "text/x-python",
   "name": "python",
   "nbconvert_exporter": "python",
   "pygments_lexer": "ipython3",
   "version": "3.11.1"
  },
  "orig_nbformat": 4
 },
 "nbformat": 4,
 "nbformat_minor": 2
}
